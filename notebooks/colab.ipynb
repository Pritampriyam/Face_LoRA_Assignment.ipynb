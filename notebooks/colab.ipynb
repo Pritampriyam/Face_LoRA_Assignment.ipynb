{
 "cells": [
  {
   "cell_type": "markdown",
   "metadata": {
    "id": "kY71X8XqX7oG"
   },
   "source": [
    "# Stable Diffusion LoRA - Colab Demo\n",
    "[![Open In Colab](https://colab.research.google.com/assets/colab-badge.svg)](https://colab.research.google.com/github/your-username/stable-diffusion-lora/blob/main/notebooks/colab_demo.ipynb)\n",
    "\n",
    "1. Upload 3-4 face images to `/content/stable-diffusion-lora/input/`\n",
    "2. Run all cells"
   ]
  },
  {
   "cell_type": "code",
   "execution_count": null,
   "metadata": {
    "id": "7VqgZQZ6X_5l"
   },
   "outputs": [],
   "source": [
    "!git clone https://github.com/your-username/stable-diffusion-lora.git\n",
    "%cd stable-diffusion-lora\n",
    "!pip install -r requirements.txt"
   ]
  },
  {
   "cell_type": "code",
   "execution_count": null,
   "metadata": {
    "id": "1V3v3QZfYBJ5"
   },
   "outputs": [],
   "source": [
    "# Preprocess images\n",
    "from utils.preprocess import process_images\n",
    "process_images(input_dir=\"input\")"
   ]
  },
  {
   "cell_type": "code",
   "execution_count": null,
   "metadata": {
    "id": "3v3v3QZfYBJ5"
   },
   "outputs": [],
   "source": [
    "# Train\n",
    "!python train.py"
   ]
  },
  {
   "cell_type": "code",
   "execution_count": null,
   "metadata": {
    "id": "4V3v3QZfYBJ5"
   },
   "outputs": [],
   "source": [
    "# Generate\n",
    "!python generate.py\n",
    "\n",
    "# Display outputs\n",
    "from IPython.display import Image, display\n",
    "for img in ['spacesuit', 'horse', 'cricket']:\n",
    "    display(Image(f\"output/{img}.png\"))"
   ]
  }
 ]
}
