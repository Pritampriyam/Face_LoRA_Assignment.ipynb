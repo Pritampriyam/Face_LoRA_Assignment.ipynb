# [Open in Colab badge link]
!git clone https://github.com/your-username/stable-diffusion-lora.git
%cd stable-diffusion-lora
!pip install -r requirements.txt

# Train
!python train.py

# Generate
!python generate.py
